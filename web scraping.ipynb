{
 "cells": [
  {
   "cell_type": "code",
   "execution_count": null,
   "id": "9ce07840",
   "metadata": {},
   "outputs": [],
   "source": [
    "from bs4 import BeautifulSoup\n",
    "from selenium import webdriver\n",
    "from selenium.webdriver.common.by import By\n",
    "from selenium.webdriver.firefox.options import Options\n",
    "from selenium.webdriver.firefox.service import Service\n",
    "from selenium.common.exceptions import NoSuchElementException\n",
    "import pandas as pd"
   ]
  },
  {
   "cell_type": "code",
   "execution_count": null,
   "id": "c5a3e5e4",
   "metadata": {},
   "outputs": [],
   "source": [
    "webdriver_path = 'geckodriver'\n",
    "binary_path = \"C:\\Program Files (x86)\\Mozilla Firefox\\firefox.exe\"\n",
    "firefox_options = Options()\n",
    "firefox_options.add_argument('--headless')\n",
    "firefox_options.add_argument('--no-sandbox')\n",
    "driver = webdriver.Firefox(service=Service(webdriver_path), options=firefox_options)"
   ]
  },
  {
   "cell_type": "code",
   "execution_count": null,
   "id": "664e77ca",
   "metadata": {},
   "outputs": [],
   "source": [
    "url = \"https://qalampir.uz\""
   ]
  },
  {
   "cell_type": "code",
   "execution_count": null,
   "id": "fe5a4d55",
   "metadata": {},
   "outputs": [],
   "source": [
    "driver.get(url+\"/uz\")\n",
    "html_content = driver.page_source\n",
    "soup = BeautifulSoup(html_content, \"html.parser\")\n",
    "items = soup.find_all(\"a\",class_=\"nav-link\")\n",
    "menu = []\n",
    "\n",
    "for item in items:\n",
    "    menu.append(url+\"/uz\"+item[\"href\"])\n",
    "    print(url+\"/uz\"+item[\"href\"])"
   ]
  },
  {
   "cell_type": "code",
   "execution_count": null,
   "id": "df5b764d",
   "metadata": {},
   "outputs": [],
   "source": [
    "category_name = [category.split(\"/\")[-1] for category in menu]\n",
    "category_name"
   ]
  },
  {
   "cell_type": "code",
   "execution_count": null,
   "id": "045a71dd",
   "metadata": {},
   "outputs": [],
   "source": [
    "with open(\"qalampir_uz.txt\", \"+a\") as file:\n",
    "    \n",
    "    separator = \"~~~#~~~\"\n",
    "    \n",
    "    for item, category in zip(menu, category_name):\n",
    "        print(f\"{item} scrap boshlandi...\")\n",
    "        driver.get(item)\n",
    "        page = 0\n",
    "        \n",
    "        while True:\n",
    "            page+=1\n",
    "            \n",
    "            try:\n",
    "                element = driver.find_element(By.XPATH,\"//button[@class=\\\"refresh-btn\\\"]\")\n",
    "                element = element.click()\n",
    "                \n",
    "                if page%100==0:\n",
    "                    print(f\"{page} ta sahifa scrap qilindi\")\n",
    "                \n",
    "            except NoSuchElementException:\n",
    "                break\n",
    "        \n",
    "        print(f\"{item} scrap tugadi\\n\\n\")\n",
    "        \n",
    "        html_content = driver.page_source\n",
    "        soup = BeautifulSoup(html_content, \"html.parser\")\n",
    "        items = soup.find_all(\"a\",class_=\"news-card\")\n",
    "        count = 0\n",
    "        \n",
    "        for item in items:\n",
    "            href = url+item[\"href\"]\n",
    "            file.write(f\"{href}{separator}{category}\\n\")"
   ]
  },
  {
   "cell_type": "code",
   "execution_count": null,
   "id": "72647e52",
   "metadata": {},
   "outputs": [],
   "source": [
    "link = \"https://qalampir.uz/uz/news/mirziyeevning-administratsiyasi-putin-k-anday-khabarni-yetkazganini-ochik-ladi-84947\"\n",
    "driver.get(link)\n",
    "html_content = driver.page_source\n",
    "soup = BeautifulSoup(html_content, \"html.parser\")"
   ]
  },
  {
   "cell_type": "code",
   "execution_count": null,
   "id": "bb42e644",
   "metadata": {},
   "outputs": [],
   "source": [
    "with open(\"qalampir.txt\",\"+a\") as wfile:\n",
    "    with open(\"qalampir_uz.txt\") as rfile:\n",
    "        \n",
    "        for items in rfile:\n",
    "            link, category = items.split(separator)\n",
    "            print(link)\n",
    "            driver.get(link)\n",
    "            html_content = driver.page_source\n",
    "            soup = BeautifulSoup(html_content, \"html.parser\")\n",
    "\n",
    "            title = soup.find(\"h1\",class_=\"text\").text\n",
    "            content = \"\".join([p.text for p in soup.find(\"div\", class_ = \"row g-4 my-main-content\").find_all(\"p\")])\n",
    "\n",
    "            wfile.write(f\"{title}{separator}{content}{separator}{category}\\n\")"
   ]
  },
  {
   "cell_type": "code",
   "execution_count": null,
   "id": "f7264d98",
   "metadata": {},
   "outputs": [],
   "source": [
    "def clean_element(element):\n",
    "    return element.replace(\"\\n\",\"\").strip()\n",
    "\n",
    "\n",
    "dataset = pd.DataFrame(columns=['title', 'content', 'category'])\n",
    "\n",
    "with open(\"qalampir.txt\") as file:\n",
    "    for news in file:\n",
    "        \n",
    "        news = news.split(separator)\n",
    "        dataset = dataset.append([{'title':clean_element(news[0]), 'content':clean_element(news[1]), 'category':clean_element(news[2])}],ignore_index = True)\n",
    "        \n",
    "dataset.head()"
   ]
  },
  {
   "cell_type": "code",
   "execution_count": null,
   "id": "920d4c88",
   "metadata": {},
   "outputs": [],
   "source": [
    "dataset.to_csv(\"qalampir.csv\", encoding='utf-8', index = False)"
   ]
  }
 ],
 "metadata": {
  "kernelspec": {
   "display_name": "Python 3 (ipykernel)",
   "language": "python",
   "name": "python3"
  },
  "language_info": {
   "codemirror_mode": {
    "name": "ipython",
    "version": 3
   },
   "file_extension": ".py",
   "mimetype": "text/x-python",
   "name": "python",
   "nbconvert_exporter": "python",
   "pygments_lexer": "ipython3",
   "version": "3.8.10"
  }
 },
 "nbformat": 4,
 "nbformat_minor": 5
}
